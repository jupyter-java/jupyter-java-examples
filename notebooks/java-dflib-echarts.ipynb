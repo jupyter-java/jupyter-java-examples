{
 "cells": [
  {
   "cell_type": "markdown",
   "metadata": {},
   "source": [
    "# DFLib with ECharts example\n",
    "\n",
    "Start by adding the dependencies."
   ]
  },
  {
   "cell_type": "code",
   "execution_count": 3,
   "metadata": {
    "vscode": {
     "languageId": "java"
    }
   },
   "outputs": [],
   "source": [
    "%maven org.dflib:dflib-jupyter:1.0.0"
   ]
  },
  {
   "cell_type": "markdown",
   "metadata": {
    "vscode": {
     "languageId": "java"
    }
   },
   "source": [
    "Setup language model:"
   ]
  },
  {
   "cell_type": "code",
   "execution_count": 2,
   "metadata": {
    "vscode": {
     "languageId": "java"
    }
   },
   "outputs": [
    {
     "data": {
      "text/html": [
       "<script type='text/javascript' src='https://cdn.jsdelivr.net/npm/echarts@5.5.1/dist/echarts.min.js'></script>\n",
       "<div id='dfl_ech_98' style='width: 600px;height:400px;'></div>\n",
       "<script type='text/javascript'>\n",
       "    var chart_dfl_ech_98 = echarts.init(\n",
       "        document.getElementById('dfl_ech_98'),\n",
       "        null,\n",
       "   );\n",
       "    var option_dfl_ech_98 = {\n",
       "        dataset: {\n",
       "            source: [\n",
       "                ['L0','J. Cosin','J. O\\'Hara','J. Walewski'],\n",
       "                ['salary',120000,95000,80000]\n",
       "            ]\n",
       "        },\n",
       "        xAxis: [\n",
       "        {\n",
       "            type: 'category'\n",
       "        },\n",
       "        ],\n",
       "        yAxis: [\n",
       "        {\n",
       "            type: 'value'\n",
       "        },\n",
       "        ],\n",
       "        series: [\n",
       "            {\n",
       "                name: 'salary',\n",
       "                encode: {\n",
       "                    x: 0,\n",
       "                    y: 1,\n",
       "                },\n",
       "                seriesLayoutBy: 'row',\n",
       "                type: 'bar'\n",
       "            },\n",
       "        ]\n",
       "    };\n",
       "    option_dfl_ech_98 && chart_dfl_ech_98.setOption(option_dfl_ech_98);</script>"
      ],
      "text/plain": [
       "<script type='text/javascript' src='https://cdn.jsdelivr.net/npm/echarts@5.5.1/dist/echarts.min.js'></script>\n",
       "<div id='dfl_ech_98' style='width: 600px;height:400px;'></div>\n",
       "<script type='text/javascript'>\n",
       "    var chart_dfl_ech_98 = echarts.init(\n",
       "        document.getElementById('dfl_ech_98'),\n",
       "        null,\n",
       "   );\n",
       "    var option_dfl_ech_98 = {\n",
       "        dataset: {\n",
       "            source: [\n",
       "                ['L0','J. Cosin','J. O\\'Hara','J. Walewski'],\n",
       "                ['salary',120000,95000,80000]\n",
       "            ]\n",
       "        },\n",
       "        xAxis: [\n",
       "        {\n",
       "            type: 'category'\n",
       "        },\n",
       "        ],\n",
       "        yAxis: [\n",
       "        {\n",
       "            type: 'value'\n",
       "        },\n",
       "        ],\n",
       "        series: [\n",
       "            {\n",
       "                name: 'salary',\n",
       "                encode: {\n",
       "                    x: 0,\n",
       "                    y: 1,\n",
       "                },\n",
       "                seriesLayoutBy: 'row',\n",
       "                type: 'bar'\n",
       "            },\n",
       "        ]\n",
       "    };\n",
       "    option_dfl_ech_98 && chart_dfl_ech_98.setOption(option_dfl_ech_98);</script>"
      ]
     },
     "metadata": {},
     "output_type": "display_data"
    },
    {
     "data": {
      "text/plain": [
       "37946026-224c-4783-941e-97f4d99c840b"
      ]
     },
     "execution_count": 2,
     "metadata": {},
     "output_type": "execute_result"
    }
   ],
   "source": [
    "import org.dflib.echarts.*;\n",
    "\n",
    "DataFrame df = DataFrame.foldByRow(\"name\", \"salary\").of(\n",
    "                \"J. Cosin\", 120000,\n",
    "                \"J. Walewski\", 80000,\n",
    "                \"J. O'Hara\", 95000)\n",
    "        .sort($col(\"salary\").desc());\n",
    "\n",
    "var chart = ECharts\n",
    "        .chart()\n",
    "        .xAxis(\"name\")\n",
    "        .series(SeriesOpts.ofBar(), \"salary\")\n",
    "        .plot(df);\n",
    "\n",
    "        chart;"
   ]
  },
  {
   "cell_type": "markdown",
   "metadata": {},
   "source": [
    "Lets generate a response from the model:"
   ]
  },
  {
   "cell_type": "code",
   "execution_count": 7,
   "metadata": {
    "vscode": {
     "languageId": "java"
    }
   },
   "outputs": [
    {
     "data": {
      "text/plain": [
       "Hello! I'm just a program, so I don't have feelings, but I'm here and ready to help you. How can I assist you today?"
      ]
     },
     "execution_count": 7,
     "metadata": {},
     "output_type": "execute_result"
    }
   ],
   "source": [
    "model.generate(\"Hello, how are you?\");"
   ]
  },
  {
   "cell_type": "code",
   "execution_count": 10,
   "metadata": {
    "vscode": {
     "languageId": "java"
    }
   },
   "outputs": [
    {
     "data": {
      "text/plain": [
       "45, 12, 67, 89, 34, 23, 78, 56, 91, 7, 42, 81, 18, 65, 33, 10, 74, 58, 26, 99"
      ]
     },
     "execution_count": 10,
     "metadata": {},
     "output_type": "execute_result"
    }
   ],
   "source": [
    "model.generate(\"Please generate a list of 20 random values between 1 and 100. Return only the list, no other text.\");\n"
   ]
  }
 ],
 "metadata": {
  "kernelspec": {
   "display_name": "java (JJava/j!)",
   "language": "java",
   "name": "jbang-jjava"
  },
  "language_info": {
   "codemirror_mode": "java",
   "file_extension": ".jshell",
   "mimetype": "text/x-java-source",
   "name": "Java",
   "pygments_lexer": "java",
   "version": "21.0.5+11-LTS"
  }
 },
 "nbformat": 4,
 "nbformat_minor": 2
}
